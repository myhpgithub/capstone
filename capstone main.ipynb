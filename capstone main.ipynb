{
 "cells": [
  {
   "cell_type": "code",
   "execution_count": 1,
   "id": "3166ce27",
   "metadata": {},
   "outputs": [],
   "source": [
    "#importing library \n",
    "import pandas as pd\n",
    "import numpy as np\n",
    "import seaborn as sns\n",
    "import matplotlib.pyplot as plt"
   ]
  },
  {
   "cell_type": "code",
   "execution_count": 42,
   "id": "d9e39a4b",
   "metadata": {},
   "outputs": [
    {
     "data": {
      "text/html": [
       "<div>\n",
       "<style scoped>\n",
       "    .dataframe tbody tr th:only-of-type {\n",
       "        vertical-align: middle;\n",
       "    }\n",
       "\n",
       "    .dataframe tbody tr th {\n",
       "        vertical-align: top;\n",
       "    }\n",
       "\n",
       "    .dataframe thead th {\n",
       "        text-align: right;\n",
       "    }\n",
       "</style>\n",
       "<table border=\"1\" class=\"dataframe\">\n",
       "  <thead>\n",
       "    <tr style=\"text-align: right;\">\n",
       "      <th></th>\n",
       "      <th>id</th>\n",
       "      <th>name</th>\n",
       "      <th>link</th>\n",
       "      <th>image</th>\n",
       "    </tr>\n",
       "  </thead>\n",
       "  <tbody>\n",
       "    <tr>\n",
       "      <th>0</th>\n",
       "      <td>1</td>\n",
       "      <td>Empire Restaurant</td>\n",
       "      <td>https://www.zomato.com/bangalore/empire-restau...</td>\n",
       "      <td>NaN</td>\n",
       "    </tr>\n",
       "    <tr>\n",
       "      <th>1</th>\n",
       "      <td>2</td>\n",
       "      <td>Imperial Restaurant - Since 1954</td>\n",
       "      <td>https://www.zomato.com/bangalore/imperial-rest...</td>\n",
       "      <td>NaN</td>\n",
       "    </tr>\n",
       "    <tr>\n",
       "      <th>2</th>\n",
       "      <td>3</td>\n",
       "      <td>KFC</td>\n",
       "      <td>https://www.zomato.com/bangalore/kfc-brigade-r...</td>\n",
       "      <td>NaN</td>\n",
       "    </tr>\n",
       "    <tr>\n",
       "      <th>3</th>\n",
       "      <td>4</td>\n",
       "      <td>A2B - Adyar Ananda Bhavan</td>\n",
       "      <td>https://www.zomato.com/bangalore/a2b-adyar-ana...</td>\n",
       "      <td>https://b.zmtcdn.com/data/pictures/5/20279385/...</td>\n",
       "    </tr>\n",
       "    <tr>\n",
       "      <th>4</th>\n",
       "      <td>5</td>\n",
       "      <td>Maven Kitchen</td>\n",
       "      <td>https://www.zomato.com/bangalore/maven-kitchen...</td>\n",
       "      <td>https://b.zmtcdn.com/data/pictures/9/19339139/...</td>\n",
       "    </tr>\n",
       "  </tbody>\n",
       "</table>\n",
       "</div>"
      ],
      "text/plain": [
       "   id                              name  \\\n",
       "0   1                 Empire Restaurant   \n",
       "1   2  Imperial Restaurant - Since 1954   \n",
       "2   3                               KFC   \n",
       "3   4         A2B - Adyar Ananda Bhavan   \n",
       "4   5                     Maven Kitchen   \n",
       "\n",
       "                                                link  \\\n",
       "0  https://www.zomato.com/bangalore/empire-restau...   \n",
       "1  https://www.zomato.com/bangalore/imperial-rest...   \n",
       "2  https://www.zomato.com/bangalore/kfc-brigade-r...   \n",
       "3  https://www.zomato.com/bangalore/a2b-adyar-ana...   \n",
       "4  https://www.zomato.com/bangalore/maven-kitchen...   \n",
       "\n",
       "                                               image  \n",
       "0                                                NaN  \n",
       "1                                                NaN  \n",
       "2                                                NaN  \n",
       "3  https://b.zmtcdn.com/data/pictures/5/20279385/...  \n",
       "4  https://b.zmtcdn.com/data/pictures/9/19339139/...  "
      ]
     },
     "execution_count": 42,
     "metadata": {},
     "output_type": "execute_result"
    }
   ],
   "source": [
    "#importing data \n",
    "re_data=pd.read_csv(r'C:/Users/hp/Desktop/kaam ka kaam/Zomato-scraper-main/restaurants_data.csv')\n",
    "re_data.head()                    "
   ]
  },
  {
   "cell_type": "code",
   "execution_count": 43,
   "id": "bb680dd2",
   "metadata": {},
   "outputs": [
    {
     "data": {
      "text/html": [
       "<div>\n",
       "<style scoped>\n",
       "    .dataframe tbody tr th:only-of-type {\n",
       "        vertical-align: middle;\n",
       "    }\n",
       "\n",
       "    .dataframe tbody tr th {\n",
       "        vertical-align: top;\n",
       "    }\n",
       "\n",
       "    .dataframe thead th {\n",
       "        text-align: right;\n",
       "    }\n",
       "</style>\n",
       "<table border=\"1\" class=\"dataframe\">\n",
       "  <thead>\n",
       "    <tr style=\"text-align: right;\">\n",
       "      <th></th>\n",
       "      <th>id</th>\n",
       "      <th>restaurant known for</th>\n",
       "      <th>delivery_rating</th>\n",
       "      <th>delivery_review_number</th>\n",
       "      <th>location</th>\n",
       "      <th>timings</th>\n",
       "      <th>average_price</th>\n",
       "      <th>Dishes</th>\n",
       "      <th>cuisines</th>\n",
       "    </tr>\n",
       "  </thead>\n",
       "  <tbody>\n",
       "    <tr>\n",
       "      <th>0</th>\n",
       "      <td>1</td>\n",
       "      <td>Overall the Food was Good, Juice Prices, Good ...</td>\n",
       "      <td>4.2</td>\n",
       "      <td>19.7</td>\n",
       "      <td>Shivajinagar, Bangalore</td>\n",
       "      <td>11am – 2:30am</td>\n",
       "      <td>950</td>\n",
       "      <td>Chicken Kheema Dosa, Mutton Shaadi Ki Biryani,...</td>\n",
       "      <td>['North Indian', 'Biryani', 'Kebab', 'South In...</td>\n",
       "    </tr>\n",
       "    <tr>\n",
       "      <th>1</th>\n",
       "      <td>2</td>\n",
       "      <td>Cleanliness, Cutlery, Management, Table, Porti...</td>\n",
       "      <td>4.2</td>\n",
       "      <td>7.0</td>\n",
       "      <td>Residency Road, Bangalore</td>\n",
       "      <td>10am – 1am</td>\n",
       "      <td>1000</td>\n",
       "      <td>Brain Pepper Fry, Bheja Fry, Kababs, Chicken K...</td>\n",
       "      <td>['North Indian', 'Mughlai', 'Chinese', 'Biryan...</td>\n",
       "    </tr>\n",
       "    <tr>\n",
       "      <th>2</th>\n",
       "      <td>3</td>\n",
       "      <td>Cute Packaging, Weekend Brunch, Good Wifi, Foo...</td>\n",
       "      <td>3.8</td>\n",
       "      <td>1.0</td>\n",
       "      <td>Brigade Road, Bangalore</td>\n",
       "      <td>12midnight – 1am, 11am – 12midnight</td>\n",
       "      <td>500</td>\n",
       "      <td>Maggie, Hot Wings, Cheesecake, Fries, Chicken</td>\n",
       "      <td>['Fast Food', 'Burger', 'Biryani', 'Desserts',...</td>\n",
       "    </tr>\n",
       "    <tr>\n",
       "      <th>3</th>\n",
       "      <td>4</td>\n",
       "      <td>NaN</td>\n",
       "      <td>4.3</td>\n",
       "      <td>2.0</td>\n",
       "      <td>Shanti Nagar, Bangalore</td>\n",
       "      <td>7am – 7pm</td>\n",
       "      <td>600</td>\n",
       "      <td>NaN</td>\n",
       "      <td>['South Indian', 'North Indian', 'Biryani', 'C...</td>\n",
       "    </tr>\n",
       "    <tr>\n",
       "      <th>4</th>\n",
       "      <td>5</td>\n",
       "      <td>Authentic, Hygienic, Perfect Presentation, Won...</td>\n",
       "      <td>4.5</td>\n",
       "      <td>2.0</td>\n",
       "      <td>Ejipura, Bangalore</td>\n",
       "      <td>12noon – 10:45pm</td>\n",
       "      <td>500</td>\n",
       "      <td>Manipuri Fish Curry, Smoked Pork, Momos, Chicken</td>\n",
       "      <td>['Chinese', 'North Eastern', 'Beverages']</td>\n",
       "    </tr>\n",
       "  </tbody>\n",
       "</table>\n",
       "</div>"
      ],
      "text/plain": [
       "   id                               restaurant known for  delivery_rating  \\\n",
       "0   1  Overall the Food was Good, Juice Prices, Good ...              4.2   \n",
       "1   2  Cleanliness, Cutlery, Management, Table, Porti...              4.2   \n",
       "2   3  Cute Packaging, Weekend Brunch, Good Wifi, Foo...              3.8   \n",
       "3   4                                                NaN              4.3   \n",
       "4   5  Authentic, Hygienic, Perfect Presentation, Won...              4.5   \n",
       "\n",
       "   delivery_review_number                   location  \\\n",
       "0                    19.7    Shivajinagar, Bangalore   \n",
       "1                     7.0  Residency Road, Bangalore   \n",
       "2                     1.0    Brigade Road, Bangalore   \n",
       "3                     2.0    Shanti Nagar, Bangalore   \n",
       "4                     2.0         Ejipura, Bangalore   \n",
       "\n",
       "                               timings  average_price  \\\n",
       "0                        11am – 2:30am            950   \n",
       "1                           10am – 1am           1000   \n",
       "2  12midnight – 1am, 11am – 12midnight            500   \n",
       "3                            7am – 7pm            600   \n",
       "4                     12noon – 10:45pm            500   \n",
       "\n",
       "                                              Dishes  \\\n",
       "0  Chicken Kheema Dosa, Mutton Shaadi Ki Biryani,...   \n",
       "1  Brain Pepper Fry, Bheja Fry, Kababs, Chicken K...   \n",
       "2      Maggie, Hot Wings, Cheesecake, Fries, Chicken   \n",
       "3                                                NaN   \n",
       "4   Manipuri Fish Curry, Smoked Pork, Momos, Chicken   \n",
       "\n",
       "                                            cuisines  \n",
       "0  ['North Indian', 'Biryani', 'Kebab', 'South In...  \n",
       "1  ['North Indian', 'Mughlai', 'Chinese', 'Biryan...  \n",
       "2  ['Fast Food', 'Burger', 'Biryani', 'Desserts',...  \n",
       "3  ['South Indian', 'North Indian', 'Biryani', 'C...  \n",
       "4          ['Chinese', 'North Eastern', 'Beverages']  "
      ]
     },
     "execution_count": 43,
     "metadata": {},
     "output_type": "execute_result"
    }
   ],
   "source": [
    "df_detail=pd.read_csv(r'C:/Users/hp/Desktop/kaam ka kaam/Zomato-scraper-main/restaurant_details_data.csv')\n",
    "df_detail.head()"
   ]
  },
  {
   "cell_type": "code",
   "execution_count": null,
   "id": "3e03f888",
   "metadata": {},
   "outputs": [],
   "source": [
    "#checking data "
   ]
  },
  {
   "cell_type": "code",
   "execution_count": 4,
   "id": "0511a49a",
   "metadata": {},
   "outputs": [
    {
     "data": {
      "text/plain": [
       "array(['11am – 2:30am', '10am – 1am',\n",
       "       '12midnight – 1am, 11am – 12midnight', '7am – 7pm',\n",
       "       '12noon – 10:45pm', '12midnight – 3am, 11am – 12midnight',\n",
       "       '8am – 6am', '12midnight – 2am, 11am – 12midnight', '9am – 9pm',\n",
       "       '12midnight – 1:30am, 11:30am – 12midnight',\n",
       "       '11:30am – 3:45pm, 6:30pm – 10:45pm', nan, '11am – 11pm',\n",
       "       '12noon – 10:30pm', '12midnight – 2am, 7am – 12midnight',\n",
       "       '10am – 2:45am', '11:30am – 4pm, 6:30pm – 11pm', '9:30am – 10pm',\n",
       "       '11:30am – 4pm, 6:30pm – 12midnight', '8am – 11:30pm',\n",
       "       '11am – 12midnight', '12midnight – 1am, 9am – 12midnight',\n",
       "       '11am – 11:30pm', '11:45am – 11pm', '11am – 3am',\n",
       "       '11:30am – 11:30pm', '12noon – 4pm, 7pm – 11:30pm',\n",
       "       '12noon – 4pm, 7pm – 10:30pm', '11am – 4:30pm, 6:30pm – 11:45pm',\n",
       "       '8:30am – 11:30pm', '8am – 5pm', '7am – 10:30pm',\n",
       "       '12:30pm – 11:30pm', '7:30am – 10pm', '7:30am – 11pm',\n",
       "       '10am – 10pm', '12midnight – 2am, 11:30am – 12midnight',\n",
       "       '9am – 4am', '11am – 4pm, 7pm – 12midnight', '9:30am – 11pm',\n",
       "       '7am – 10pm', '7am – 9:30pm', '8am – 10pm',\n",
       "       '11:30am – 5pm, 6pm – 1am', '12noon – 12midnight',\n",
       "       '12midnight – 2am, 10am – 12midnight',\n",
       "       '7:15am – 11am, 12noon – 4:15pm, 6:45pm – 11pm', '10:45am – 5pm',\n",
       "       '24 Hours', '7:15am – 10:30pm', '12:30pm – 10:30pm',\n",
       "       '7am – 10:20pm', '8am – 11pm', '8am – 9:30pm', '7:30am – 9:45pm',\n",
       "       '10am – 12midnight', '11am – 11:45pm', '10:30am – 11:30pm',\n",
       "       '9am – 12midnight', '12noon – 4pm, 7pm – 11pm',\n",
       "       '11am – 4pm, 6:30pm – 10:30pm',\n",
       "       '12midnight – 3am, 7am – 12midnight',\n",
       "       '11:45am – 5pm, 5:45pm – 12midnight',\n",
       "       '11am – 11:30pm, 12midnight – 3am', '9am – 7pm', '11am – 10pm',\n",
       "       '8am – 12midnight', '10am – 11pm', '7am – 9pm', '11am – 9:30pm',\n",
       "       '8am – 1am', '11:30am – 11pm', '7am – 5am', '10:30am – 10pm',\n",
       "       '12noon – 3am', '11:30am – 5:30pm, 6:30pm – 10:30pm',\n",
       "       '10:45am – 11:45pm', '7am – 11:52pm', '7am – 8:45pm',\n",
       "       '11am – 10:30pm', '10am – 2am', '10:15am – 11:30pm', '1pm – 3am',\n",
       "       '7am – 11pm', '9am – 10:30pm', '8am – 10:30pm',\n",
       "       '11:30am – 3:30pm, 6:30pm – 10:30pm',\n",
       "       '9am – 4pm, 6pm – 12midnight',\n",
       "       '12midnight – 2am, 12noon – 12midnight', '12noon – 11pm',\n",
       "       'Opens at 6pm', '9:30am – 10:30pm', '10am – 9:30pm', '7am – 6pm',\n",
       "       '11am – 1am', '12midnight – 3am, 11am – 11pm', '10:30am – 11:15pm',\n",
       "       '12:30pm – 11:15pm', '10am – 3:30pm, 6:15pm – 11:15pm',\n",
       "       '9am – 11:45pm', '6:30am – 10:30pm', '7:30am – 10:30pm',\n",
       "       '12:45pm – 11:30pm', '11:15am – 12midnight',\n",
       "       '11am – 3:30pm, 7pm – 10:30pm', '11:30am – 4pm, 6:30pm – 10pm',\n",
       "       '11am – 9pm', '10:45am – 10:45pm', '11:30am – 4pm, 7pm – 11pm',\n",
       "       '12midnight – 12:30am, 10am – 12midnight',\n",
       "       '12:15pm – 5:45pm, 7pm – 12midnight', '11am – 11:55pm',\n",
       "       '1pm – 3pm, 6pm – 11pm',\n",
       "       '12midnight – 12:30am, 12noon – 12midnight', '1:30pm – 12midnight',\n",
       "       '11am – 4:30pm, 6:30pm – 11pm', '7am – 12midnight',\n",
       "       '9am – 12:30am', '11:30am – 4:30pm, 6:30pm – 11:30pm',\n",
       "       '6:30am – 11pm', '12midnight – 1am, 11:30am – 12midnight',\n",
       "       '9am – 11:30pm', '12midnight – 4am, 6am – 12midnight',\n",
       "       '11:30am – 3:30pm, 7:30pm – 9:30pm', '12:30pm – 11pm',\n",
       "       '12midnight – 1am, 12noon – 12midnight',\n",
       "       '11:45am – 3:45pm, 6:45pm – 10:45pm',\n",
       "       '12noon – 3:30pm, 7pm – 11pm', '12noon – 4:30pm, 7pm – 10:30pm',\n",
       "       '10am – 9pm', '10:30am – 5:58pm, 5:59pm – 12midnight',\n",
       "       '11:30am – 4pm, 6:30pm – 10:30pm', '12noon – 3pm, 7pm – 10pm',\n",
       "       '9am – 10pm', '12midnight – 12:15am, 11am – 12midnight',\n",
       "       '12noon – 3:30pm, 6pm – 10:30pm', '12:30pm – 10pm', '7am – 9:35pm',\n",
       "       '12:30pm – 2am', '2:15pm – 10pm', '12noon – 4pm, 6pm – 11pm',\n",
       "       '9am – 1am', '10:30am – 9:30pm', '12noon – 4:30pm, 7pm – 10pm',\n",
       "       '11:30am – 4:30pm, 6pm – 10:30pm',\n",
       "       '12midnight – 3am, 10am – 12midnight', '7:30am – 11:45pm',\n",
       "       '12midnight – 4am, 10am – 12midnight', '8:30am – 10:30pm',\n",
       "       '12midnight – 1:30am, 1pm – 12midnight', '10am – 9:45pm',\n",
       "       '12noon – 4pm, 7pm – 9:30pm', '12:30pm – 4pm, 6:45pm – 11pm',\n",
       "       '12:30pm – 11:55pm', '12noon – 1:30am', '10am – 10:30pm',\n",
       "       '7:45am – 10:25pm', '8:15am – 10:30pm', '11:30am – 10:15pm',\n",
       "       '12:15pm – 11:45pm', '12noon – 12:30am', '8:15am – 12midnight',\n",
       "       '9:30am – 9:30pm', '12noon – 11:30pm', '8am – 8:30pm',\n",
       "       '8:30am – 9:30pm', '12midnight – 12noon, 12:15pm – 11:45pm',\n",
       "       '7am – 10:15pm',\n",
       "       '12midnight – 12:30am, 11:30am – 3:30pm, 6:30pm – 12midnight',\n",
       "       '7:30am – 11:30pm', '7am – 4pm, 6:30pm – 10pm', '12noon – 11:45pm',\n",
       "       '12noon – 3:15pm, 6:30pm – 10:45pm',\n",
       "       '11:30am – 3:30pm, 6:30pm – 12:30am',\n",
       "       '12noon – 4pm, 6:30pm – 10:30pm',\n",
       "       '11:30am – 4:30pm, 6:30pm – 11pm', '12noon – 9pm',\n",
       "       '11am – 4pm, 6pm – 11pm',\n",
       "       '12midnight – 6am, 11:30am – 3:30pm, 6:30pm – 12midnight',\n",
       "       '8:30am – 11:45pm', '12noon – 3:30pm, 7pm – 10:30pm',\n",
       "       '11:30am – 2am', '6:30am – 11:30pm',\n",
       "       '12midnight – 2am, 9am – 12midnight', '12noon – 4:30pm, 7pm – 9pm',\n",
       "       '9am – 11pm', '9am – 4pm, 7pm – 11pm',\n",
       "       '12midnight – 5am, 11:30am – 12midnight', '11:30am – 10:30pm',\n",
       "       '7am – 10:45pm', '8am – 11:45pm', '12noon – 10pm',\n",
       "       '11:30am – 10pm', '8:30am – 11pm', '11:30am – 3am'], dtype=object)"
      ]
     },
     "execution_count": 4,
     "metadata": {},
     "output_type": "execute_result"
    }
   ],
   "source": [
    "df_detail['timings'].unique()"
   ]
  },
  {
   "cell_type": "code",
   "execution_count": 44,
   "id": "a5ddac8d",
   "metadata": {},
   "outputs": [],
   "source": [
    "df_detail['timings']=df_detail['timings'].str.replace('midnight','AM')"
   ]
  },
  {
   "cell_type": "code",
   "execution_count": 6,
   "id": "472ee07d",
   "metadata": {},
   "outputs": [],
   "source": [
    "df_detail['timings']=df_detail['timings'].str.replace('noon','PM')"
   ]
  },
  {
   "cell_type": "code",
   "execution_count": 7,
   "id": "05df0220",
   "metadata": {},
   "outputs": [
    {
     "data": {
      "text/plain": [
       "array(['11am – 2:30am', '10am – 1am', '12PM – 1am, 11am – 12PM',\n",
       "       '7am – 7pm', '12PM – 10:45pm', '12PM – 3am, 11am – 12PM',\n",
       "       '8am – 6am', '12PM – 2am, 11am – 12PM', '9am – 9pm',\n",
       "       '12PM – 1:30am, 11:30am – 12PM',\n",
       "       '11:30am – 3:45pm, 6:30pm – 10:45pm', nan, '11am – 11pm',\n",
       "       '12PM – 10:30pm', '12PM – 2am, 7am – 12PM', '10am – 2:45am',\n",
       "       '11:30am – 4pm, 6:30pm – 11pm', '9:30am – 10pm',\n",
       "       '11:30am – 4pm, 6:30pm – 12PM', '8am – 11:30pm', '11am – 12PM',\n",
       "       '12PM – 1am, 9am – 12PM', '11am – 11:30pm', '11:45am – 11pm',\n",
       "       '11am – 3am', '11:30am – 11:30pm', '12PM – 4pm, 7pm – 11:30pm',\n",
       "       '12PM – 4pm, 7pm – 10:30pm', '11am – 4:30pm, 6:30pm – 11:45pm',\n",
       "       '8:30am – 11:30pm', '8am – 5pm', '7am – 10:30pm',\n",
       "       '12:30pm – 11:30pm', '7:30am – 10pm', '7:30am – 11pm',\n",
       "       '10am – 10pm', '12PM – 2am, 11:30am – 12PM', '9am – 4am',\n",
       "       '11am – 4pm, 7pm – 12PM', '9:30am – 11pm', '7am – 10pm',\n",
       "       '7am – 9:30pm', '8am – 10pm', '11:30am – 5pm, 6pm – 1am',\n",
       "       '12PM – 12PM', '12PM – 2am, 10am – 12PM',\n",
       "       '7:15am – 11am, 12PM – 4:15pm, 6:45pm – 11pm', '10:45am – 5pm',\n",
       "       '24 Hours', '7:15am – 10:30pm', '12:30pm – 10:30pm',\n",
       "       '7am – 10:20pm', '8am – 11pm', '8am – 9:30pm', '7:30am – 9:45pm',\n",
       "       '10am – 12PM', '11am – 11:45pm', '10:30am – 11:30pm', '9am – 12PM',\n",
       "       '12PM – 4pm, 7pm – 11pm', '11am – 4pm, 6:30pm – 10:30pm',\n",
       "       '12PM – 3am, 7am – 12PM', '11:45am – 5pm, 5:45pm – 12PM',\n",
       "       '11am – 11:30pm, 12PM – 3am', '9am – 7pm', '11am – 10pm',\n",
       "       '8am – 12PM', '10am – 11pm', '7am – 9pm', '11am – 9:30pm',\n",
       "       '8am – 1am', '11:30am – 11pm', '7am – 5am', '10:30am – 10pm',\n",
       "       '12PM – 3am', '11:30am – 5:30pm, 6:30pm – 10:30pm',\n",
       "       '10:45am – 11:45pm', '7am – 11:52pm', '7am – 8:45pm',\n",
       "       '11am – 10:30pm', '10am – 2am', '10:15am – 11:30pm', '1pm – 3am',\n",
       "       '7am – 11pm', '9am – 10:30pm', '8am – 10:30pm',\n",
       "       '11:30am – 3:30pm, 6:30pm – 10:30pm', '9am – 4pm, 6pm – 12PM',\n",
       "       '12PM – 2am, 12PM – 12PM', '12PM – 11pm', 'Opens at 6pm',\n",
       "       '9:30am – 10:30pm', '10am – 9:30pm', '7am – 6pm', '11am – 1am',\n",
       "       '12PM – 3am, 11am – 11pm', '10:30am – 11:15pm',\n",
       "       '12:30pm – 11:15pm', '10am – 3:30pm, 6:15pm – 11:15pm',\n",
       "       '9am – 11:45pm', '6:30am – 10:30pm', '7:30am – 10:30pm',\n",
       "       '12:45pm – 11:30pm', '11:15am – 12PM',\n",
       "       '11am – 3:30pm, 7pm – 10:30pm', '11:30am – 4pm, 6:30pm – 10pm',\n",
       "       '11am – 9pm', '10:45am – 10:45pm', '11:30am – 4pm, 7pm – 11pm',\n",
       "       '12PM – 12:30am, 10am – 12PM', '12:15pm – 5:45pm, 7pm – 12PM',\n",
       "       '11am – 11:55pm', '1pm – 3pm, 6pm – 11pm',\n",
       "       '12PM – 12:30am, 12PM – 12PM', '1:30pm – 12PM',\n",
       "       '11am – 4:30pm, 6:30pm – 11pm', '7am – 12PM', '9am – 12:30am',\n",
       "       '11:30am – 4:30pm, 6:30pm – 11:30pm', '6:30am – 11pm',\n",
       "       '12PM – 1am, 11:30am – 12PM', '9am – 11:30pm',\n",
       "       '12PM – 4am, 6am – 12PM', '11:30am – 3:30pm, 7:30pm – 9:30pm',\n",
       "       '12:30pm – 11pm', '12PM – 1am, 12PM – 12PM',\n",
       "       '11:45am – 3:45pm, 6:45pm – 10:45pm', '12PM – 3:30pm, 7pm – 11pm',\n",
       "       '12PM – 4:30pm, 7pm – 10:30pm', '10am – 9pm',\n",
       "       '10:30am – 5:58pm, 5:59pm – 12PM',\n",
       "       '11:30am – 4pm, 6:30pm – 10:30pm', '12PM – 3pm, 7pm – 10pm',\n",
       "       '9am – 10pm', '12PM – 12:15am, 11am – 12PM',\n",
       "       '12PM – 3:30pm, 6pm – 10:30pm', '12:30pm – 10pm', '7am – 9:35pm',\n",
       "       '12:30pm – 2am', '2:15pm – 10pm', '12PM – 4pm, 6pm – 11pm',\n",
       "       '9am – 1am', '10:30am – 9:30pm', '12PM – 4:30pm, 7pm – 10pm',\n",
       "       '11:30am – 4:30pm, 6pm – 10:30pm', '12PM – 3am, 10am – 12PM',\n",
       "       '7:30am – 11:45pm', '12PM – 4am, 10am – 12PM', '8:30am – 10:30pm',\n",
       "       '12PM – 1:30am, 1pm – 12PM', '10am – 9:45pm',\n",
       "       '12PM – 4pm, 7pm – 9:30pm', '12:30pm – 4pm, 6:45pm – 11pm',\n",
       "       '12:30pm – 11:55pm', '12PM – 1:30am', '10am – 10:30pm',\n",
       "       '7:45am – 10:25pm', '8:15am – 10:30pm', '11:30am – 10:15pm',\n",
       "       '12:15pm – 11:45pm', '12PM – 12:30am', '8:15am – 12PM',\n",
       "       '9:30am – 9:30pm', '12PM – 11:30pm', '8am – 8:30pm',\n",
       "       '8:30am – 9:30pm', '12PM – 12PM, 12:15pm – 11:45pm',\n",
       "       '7am – 10:15pm', '12PM – 12:30am, 11:30am – 3:30pm, 6:30pm – 12PM',\n",
       "       '7:30am – 11:30pm', '7am – 4pm, 6:30pm – 10pm', '12PM – 11:45pm',\n",
       "       '12PM – 3:15pm, 6:30pm – 10:45pm',\n",
       "       '11:30am – 3:30pm, 6:30pm – 12:30am',\n",
       "       '12PM – 4pm, 6:30pm – 10:30pm', '11:30am – 4:30pm, 6:30pm – 11pm',\n",
       "       '12PM – 9pm', '11am – 4pm, 6pm – 11pm',\n",
       "       '12PM – 6am, 11:30am – 3:30pm, 6:30pm – 12PM', '8:30am – 11:45pm',\n",
       "       '12PM – 3:30pm, 7pm – 10:30pm', '11:30am – 2am',\n",
       "       '6:30am – 11:30pm', '12PM – 2am, 9am – 12PM',\n",
       "       '12PM – 4:30pm, 7pm – 9pm', '9am – 11pm', '9am – 4pm, 7pm – 11pm',\n",
       "       '12PM – 5am, 11:30am – 12PM', '11:30am – 10:30pm', '7am – 10:45pm',\n",
       "       '8am – 11:45pm', '12PM – 10pm', '11:30am – 10pm', '8:30am – 11pm',\n",
       "       '11:30am – 3am'], dtype=object)"
      ]
     },
     "execution_count": 7,
     "metadata": {},
     "output_type": "execute_result"
    }
   ],
   "source": [
    "df_detail['timings'].unique()"
   ]
  },
  {
   "cell_type": "code",
   "execution_count": 45,
   "id": "cbbeeb30",
   "metadata": {},
   "outputs": [
    {
     "data": {
      "text/plain": [
       "array([ 950, 1000,  500,  600,  450, 2000,  300,  350,  400,  900,  850,\n",
       "        650,  550,  800,  700,   50,  750], dtype=int64)"
      ]
     },
     "execution_count": 45,
     "metadata": {},
     "output_type": "execute_result"
    }
   ],
   "source": [
    "df_detail['average_price'].unique()"
   ]
  },
  {
   "cell_type": "code",
   "execution_count": 11,
   "id": "831e4018",
   "metadata": {},
   "outputs": [
    {
     "data": {
      "text/plain": [
       "id        int64\n",
       "name     object\n",
       "link     object\n",
       "image    object\n",
       "dtype: object"
      ]
     },
     "execution_count": 11,
     "metadata": {},
     "output_type": "execute_result"
    }
   ],
   "source": [
    "re_data.dtypes"
   ]
  },
  {
   "cell_type": "code",
   "execution_count": 12,
   "id": "ba66bc70",
   "metadata": {},
   "outputs": [
    {
     "data": {
      "text/plain": [
       "id                          int64\n",
       "restaurant known for       object\n",
       "delivery_rating           float64\n",
       "delivery_review_number    float64\n",
       "location                   object\n",
       "timings                    object\n",
       "average_price               int32\n",
       "Dishes                     object\n",
       "cuisines                   object\n",
       "dtype: object"
      ]
     },
     "execution_count": 12,
     "metadata": {},
     "output_type": "execute_result"
    }
   ],
   "source": [
    "df_detail.dtypes"
   ]
  },
  {
   "cell_type": "code",
   "execution_count": 13,
   "id": "15ccedb6",
   "metadata": {},
   "outputs": [
    {
     "data": {
      "text/plain": [
       "id         0\n",
       "name       0\n",
       "link       0\n",
       "image    183\n",
       "dtype: int64"
      ]
     },
     "execution_count": 13,
     "metadata": {},
     "output_type": "execute_result"
    }
   ],
   "source": [
    "# checking for null values \n",
    "re_data.isnull().sum()"
   ]
  },
  {
   "cell_type": "code",
   "execution_count": 14,
   "id": "a10772bf",
   "metadata": {},
   "outputs": [
    {
     "data": {
      "text/plain": [
       "id                          0\n",
       "restaurant known for      209\n",
       "delivery_rating             0\n",
       "delivery_review_number      0\n",
       "location                    0\n",
       "timings                   121\n",
       "average_price               0\n",
       "Dishes                    366\n",
       "cuisines                    0\n",
       "dtype: int64"
      ]
     },
     "execution_count": 14,
     "metadata": {},
     "output_type": "execute_result"
    }
   ],
   "source": [
    "# checking for null values \n",
    "df_detail.isnull().sum()"
   ]
  },
  {
   "cell_type": "code",
   "execution_count": 15,
   "id": "03d9708b",
   "metadata": {},
   "outputs": [],
   "source": [
    "# Fill null values in the 'image' column with a placeholder string\n",
    "re_data['image'].fillna('missing_image.jpg', inplace=True)"
   ]
  },
  {
   "cell_type": "code",
   "execution_count": 17,
   "id": "7fdcce08",
   "metadata": {},
   "outputs": [],
   "source": [
    "# fillin na to make sure data looks real \n",
    "df_detail['Dishes'].fillna('not available', inplace=True)"
   ]
  },
  {
   "cell_type": "code",
   "execution_count": 18,
   "id": "3427cabd",
   "metadata": {},
   "outputs": [],
   "source": [
    "df_detail['timings'].fillna('not available', inplace=True)"
   ]
  },
  {
   "cell_type": "code",
   "execution_count": 19,
   "id": "44dc0f55",
   "metadata": {},
   "outputs": [],
   "source": [
    "df_detail['restaurant known for'].fillna('not available', inplace=True)"
   ]
  },
  {
   "cell_type": "code",
   "execution_count": 20,
   "id": "8c6fa5f2",
   "metadata": {},
   "outputs": [
    {
     "data": {
      "text/plain": [
       "id                        0\n",
       "restaurant known for      0\n",
       "delivery_rating           0\n",
       "delivery_review_number    0\n",
       "location                  0\n",
       "timings                   0\n",
       "average_price             0\n",
       "Dishes                    0\n",
       "cuisines                  0\n",
       "dtype: int64"
      ]
     },
     "execution_count": 20,
     "metadata": {},
     "output_type": "execute_result"
    }
   ],
   "source": [
    "df_detail.isnull().sum()"
   ]
  },
  {
   "cell_type": "code",
   "execution_count": 21,
   "id": "376035a0",
   "metadata": {},
   "outputs": [
    {
     "data": {
      "text/plain": [
       "id       0\n",
       "name     0\n",
       "link     0\n",
       "image    0\n",
       "dtype: int64"
      ]
     },
     "execution_count": 21,
     "metadata": {},
     "output_type": "execute_result"
    }
   ],
   "source": [
    "re_data.isnull().sum()"
   ]
  },
  {
   "cell_type": "code",
   "execution_count": 22,
   "id": "4e2dd68e",
   "metadata": {},
   "outputs": [
    {
     "data": {
      "text/plain": [
       "0"
      ]
     },
     "execution_count": 22,
     "metadata": {},
     "output_type": "execute_result"
    }
   ],
   "source": [
    "#check dublicate values \n",
    "re_data.duplicated().sum()"
   ]
  },
  {
   "cell_type": "code",
   "execution_count": 23,
   "id": "0c299a22",
   "metadata": {},
   "outputs": [
    {
     "data": {
      "text/plain": [
       "0"
      ]
     },
     "execution_count": 23,
     "metadata": {},
     "output_type": "execute_result"
    }
   ],
   "source": [
    "df_detail.duplicated().sum()"
   ]
  },
  {
   "cell_type": "code",
   "execution_count": 46,
   "id": "a3460e5b",
   "metadata": {},
   "outputs": [],
   "source": [
    "# Merge the two tables based on the 'id' column\n",
    "merged_data = pd.merge(re_data, df_detail, on='id', how='inner')"
   ]
  },
  {
   "cell_type": "code",
   "execution_count": 47,
   "id": "9d2a2b47",
   "metadata": {},
   "outputs": [
    {
     "data": {
      "text/html": [
       "<div>\n",
       "<style scoped>\n",
       "    .dataframe tbody tr th:only-of-type {\n",
       "        vertical-align: middle;\n",
       "    }\n",
       "\n",
       "    .dataframe tbody tr th {\n",
       "        vertical-align: top;\n",
       "    }\n",
       "\n",
       "    .dataframe thead th {\n",
       "        text-align: right;\n",
       "    }\n",
       "</style>\n",
       "<table border=\"1\" class=\"dataframe\">\n",
       "  <thead>\n",
       "    <tr style=\"text-align: right;\">\n",
       "      <th></th>\n",
       "      <th>id</th>\n",
       "      <th>name</th>\n",
       "      <th>link</th>\n",
       "      <th>image</th>\n",
       "      <th>restaurant known for</th>\n",
       "      <th>delivery_rating</th>\n",
       "      <th>delivery_review_number</th>\n",
       "      <th>location</th>\n",
       "      <th>timings</th>\n",
       "      <th>average_price</th>\n",
       "      <th>Dishes</th>\n",
       "      <th>cuisines</th>\n",
       "    </tr>\n",
       "  </thead>\n",
       "  <tbody>\n",
       "    <tr>\n",
       "      <th>0</th>\n",
       "      <td>1</td>\n",
       "      <td>Empire Restaurant</td>\n",
       "      <td>https://www.zomato.com/bangalore/empire-restau...</td>\n",
       "      <td>NaN</td>\n",
       "      <td>Overall the Food was Good, Juice Prices, Good ...</td>\n",
       "      <td>4.2</td>\n",
       "      <td>19.7</td>\n",
       "      <td>Shivajinagar, Bangalore</td>\n",
       "      <td>11am – 2:30am</td>\n",
       "      <td>950</td>\n",
       "      <td>Chicken Kheema Dosa, Mutton Shaadi Ki Biryani,...</td>\n",
       "      <td>['North Indian', 'Biryani', 'Kebab', 'South In...</td>\n",
       "    </tr>\n",
       "    <tr>\n",
       "      <th>1</th>\n",
       "      <td>2</td>\n",
       "      <td>Imperial Restaurant - Since 1954</td>\n",
       "      <td>https://www.zomato.com/bangalore/imperial-rest...</td>\n",
       "      <td>NaN</td>\n",
       "      <td>Cleanliness, Cutlery, Management, Table, Porti...</td>\n",
       "      <td>4.2</td>\n",
       "      <td>7.0</td>\n",
       "      <td>Residency Road, Bangalore</td>\n",
       "      <td>10am – 1am</td>\n",
       "      <td>1000</td>\n",
       "      <td>Brain Pepper Fry, Bheja Fry, Kababs, Chicken K...</td>\n",
       "      <td>['North Indian', 'Mughlai', 'Chinese', 'Biryan...</td>\n",
       "    </tr>\n",
       "    <tr>\n",
       "      <th>2</th>\n",
       "      <td>3</td>\n",
       "      <td>KFC</td>\n",
       "      <td>https://www.zomato.com/bangalore/kfc-brigade-r...</td>\n",
       "      <td>NaN</td>\n",
       "      <td>Cute Packaging, Weekend Brunch, Good Wifi, Foo...</td>\n",
       "      <td>3.8</td>\n",
       "      <td>1.0</td>\n",
       "      <td>Brigade Road, Bangalore</td>\n",
       "      <td>12AM – 1am, 11am – 12AM</td>\n",
       "      <td>500</td>\n",
       "      <td>Maggie, Hot Wings, Cheesecake, Fries, Chicken</td>\n",
       "      <td>['Fast Food', 'Burger', 'Biryani', 'Desserts',...</td>\n",
       "    </tr>\n",
       "    <tr>\n",
       "      <th>3</th>\n",
       "      <td>4</td>\n",
       "      <td>A2B - Adyar Ananda Bhavan</td>\n",
       "      <td>https://www.zomato.com/bangalore/a2b-adyar-ana...</td>\n",
       "      <td>https://b.zmtcdn.com/data/pictures/5/20279385/...</td>\n",
       "      <td>NaN</td>\n",
       "      <td>4.3</td>\n",
       "      <td>2.0</td>\n",
       "      <td>Shanti Nagar, Bangalore</td>\n",
       "      <td>7am – 7pm</td>\n",
       "      <td>600</td>\n",
       "      <td>NaN</td>\n",
       "      <td>['South Indian', 'North Indian', 'Biryani', 'C...</td>\n",
       "    </tr>\n",
       "    <tr>\n",
       "      <th>4</th>\n",
       "      <td>5</td>\n",
       "      <td>Maven Kitchen</td>\n",
       "      <td>https://www.zomato.com/bangalore/maven-kitchen...</td>\n",
       "      <td>https://b.zmtcdn.com/data/pictures/9/19339139/...</td>\n",
       "      <td>Authentic, Hygienic, Perfect Presentation, Won...</td>\n",
       "      <td>4.5</td>\n",
       "      <td>2.0</td>\n",
       "      <td>Ejipura, Bangalore</td>\n",
       "      <td>12noon – 10:45pm</td>\n",
       "      <td>500</td>\n",
       "      <td>Manipuri Fish Curry, Smoked Pork, Momos, Chicken</td>\n",
       "      <td>['Chinese', 'North Eastern', 'Beverages']</td>\n",
       "    </tr>\n",
       "  </tbody>\n",
       "</table>\n",
       "</div>"
      ],
      "text/plain": [
       "   id                              name  \\\n",
       "0   1                 Empire Restaurant   \n",
       "1   2  Imperial Restaurant - Since 1954   \n",
       "2   3                               KFC   \n",
       "3   4         A2B - Adyar Ananda Bhavan   \n",
       "4   5                     Maven Kitchen   \n",
       "\n",
       "                                                link  \\\n",
       "0  https://www.zomato.com/bangalore/empire-restau...   \n",
       "1  https://www.zomato.com/bangalore/imperial-rest...   \n",
       "2  https://www.zomato.com/bangalore/kfc-brigade-r...   \n",
       "3  https://www.zomato.com/bangalore/a2b-adyar-ana...   \n",
       "4  https://www.zomato.com/bangalore/maven-kitchen...   \n",
       "\n",
       "                                               image  \\\n",
       "0                                                NaN   \n",
       "1                                                NaN   \n",
       "2                                                NaN   \n",
       "3  https://b.zmtcdn.com/data/pictures/5/20279385/...   \n",
       "4  https://b.zmtcdn.com/data/pictures/9/19339139/...   \n",
       "\n",
       "                                restaurant known for  delivery_rating  \\\n",
       "0  Overall the Food was Good, Juice Prices, Good ...              4.2   \n",
       "1  Cleanliness, Cutlery, Management, Table, Porti...              4.2   \n",
       "2  Cute Packaging, Weekend Brunch, Good Wifi, Foo...              3.8   \n",
       "3                                                NaN              4.3   \n",
       "4  Authentic, Hygienic, Perfect Presentation, Won...              4.5   \n",
       "\n",
       "   delivery_review_number                   location                  timings  \\\n",
       "0                    19.7    Shivajinagar, Bangalore            11am – 2:30am   \n",
       "1                     7.0  Residency Road, Bangalore               10am – 1am   \n",
       "2                     1.0    Brigade Road, Bangalore  12AM – 1am, 11am – 12AM   \n",
       "3                     2.0    Shanti Nagar, Bangalore                7am – 7pm   \n",
       "4                     2.0         Ejipura, Bangalore         12noon – 10:45pm   \n",
       "\n",
       "   average_price                                             Dishes  \\\n",
       "0            950  Chicken Kheema Dosa, Mutton Shaadi Ki Biryani,...   \n",
       "1           1000  Brain Pepper Fry, Bheja Fry, Kababs, Chicken K...   \n",
       "2            500      Maggie, Hot Wings, Cheesecake, Fries, Chicken   \n",
       "3            600                                                NaN   \n",
       "4            500   Manipuri Fish Curry, Smoked Pork, Momos, Chicken   \n",
       "\n",
       "                                            cuisines  \n",
       "0  ['North Indian', 'Biryani', 'Kebab', 'South In...  \n",
       "1  ['North Indian', 'Mughlai', 'Chinese', 'Biryan...  \n",
       "2  ['Fast Food', 'Burger', 'Biryani', 'Desserts',...  \n",
       "3  ['South Indian', 'North Indian', 'Biryani', 'C...  \n",
       "4          ['Chinese', 'North Eastern', 'Beverages']  "
      ]
     },
     "execution_count": 47,
     "metadata": {},
     "output_type": "execute_result"
    }
   ],
   "source": [
    "merged_data.head()"
   ]
  },
  {
   "cell_type": "code",
   "execution_count": 26,
   "id": "303a244a",
   "metadata": {},
   "outputs": [
    {
     "data": {
      "text/plain": [
       "Index(['id', 'restaurant known for', 'delivery_rating',\n",
       "       'delivery_review_number', 'location', 'timings', 'average_price',\n",
       "       'Dishes', 'cuisines'],\n",
       "      dtype='object')"
      ]
     },
     "execution_count": 26,
     "metadata": {},
     "output_type": "execute_result"
    }
   ],
   "source": [
    "df_detail.columns"
   ]
  },
  {
   "cell_type": "code",
   "execution_count": null,
   "id": "15eb86b7",
   "metadata": {},
   "outputs": [],
   "source": []
  },
  {
   "cell_type": "code",
   "execution_count": null,
   "id": "44cc834a",
   "metadata": {},
   "outputs": [],
   "source": [
    "# EDA"
   ]
  },
  {
   "cell_type": "code",
   "execution_count": 27,
   "id": "38797d09",
   "metadata": {},
   "outputs": [
    {
     "name": "stdout",
     "output_type": "stream",
     "text": [
      "location\n",
      "1 Sobha, Bangalore                                   3\n",
      "BTM, Bangalore                                      56\n",
      "Banashankari, Bangalore                              9\n",
      "Basavanagudi, Bangalore                             12\n",
      "Basaveshwara Nagar, Bangalore                       13\n",
      "Brigade Road, Bangalore                             20\n",
      "Building 105, Koramangala 5th Block, Bangalore       1\n",
      "Church Street, Bangalore                            14\n",
      "City Market, Bangalore                               4\n",
      "Commercial Street, Bangalore                         9\n",
      "Cunningham Road, Bangalore                           9\n",
      "Domlur, Bangalore                                    5\n",
      "Ejipura, Bangalore                                   2\n",
      "Forum Rex Walk, Bangalore                            2\n",
      "Frazer Town, Bangalore                              24\n",
      "Garuda Mall, Magrath Road, Bangalore                 6\n",
      "HBR Layout, Bangalore                                2\n",
      "Hosur Road, Bangalore                                8\n",
      "Indiranagar, Bangalore                              35\n",
      "Infantry Road, Bangalore                             1\n",
      "JP Nagar, Bangalore                                  5\n",
      "Jatti Building, Koramangala 5th Block, Bangalore     1\n",
      "Jayanagar, Bangalore                                 6\n",
      "Jeevan Bhima Nagar, Bangalore                        8\n",
      "Koramangala 5th Block, Bangalore                     9\n",
      "Koramangala 6th Block, Bangalore                     7\n",
      "Koramangala 7th Block, Bangalore                    18\n",
      "Kumaraswamy Layout, Bangalore                        1\n",
      "Langford Town, Bangalore                             1\n",
      "Lavelle Road, Bangalore                              6\n",
      "Lido Mall, Ulsoor, Bangalore                         2\n",
      "MG Road, Bangalore                                   4\n",
      "Majestic, Bangalore                                 10\n",
      "Malleshwaram, Bangalore                             18\n",
      "Mantri Square, Malleshwaram, Bangalore               4\n",
      "Nexus, Koramangala, Bangalore                        1\n",
      "Old Airport Road, Bangalore                          8\n",
      "Old Madras Road, Bangalore                           1\n",
      "Orion Mall, Malleshwaram, Bangalore                  1\n",
      "RT Nagar, Bangalore                                  9\n",
      "Rajajinagar, Bangalore                              29\n",
      "Residency Road, Bangalore                           11\n",
      "Richmond Road, Bangalore                            12\n",
      "Richmond Town, Bangalore                             3\n",
      "Sadashiv Nagar, Bangalore                            4\n",
      "Sanjay Nagar, Bangalore                              1\n",
      "Sankey Road, Bangalore                               1\n",
      "Seshadripuram, Bangalore                            10\n",
      "Shanti Nagar, Bangalore                             20\n",
      "Shivajinagar, Bangalore                              7\n",
      "St. Marks Road, Bangalore                            7\n",
      "Thippasandra, Bangalore                              5\n",
      "UB City, Bangalore                                   3\n",
      "Ulsoor, Bangalore                                    9\n",
      "Vasanth Nagar, Bangalore                             9\n",
      "Vijay Nagar, Bangalore                              16\n",
      "Wilson Garden, Bangalore                             2\n",
      "Yeshwantpur, Bangalore                               1\n",
      "Name: id, dtype: int64\n"
     ]
    }
   ],
   "source": [
    "#-->1 Area-wise distribution of restaurants\n",
    "area_distribution = merged_data.groupby('location')['id'].count()\n",
    "print(area_distribution)"
   ]
  },
  {
   "cell_type": "code",
   "execution_count": 28,
   "id": "811138fa",
   "metadata": {},
   "outputs": [
    {
     "data": {
      "image/png": "[encoded data removed]",
      "text/plain": [
       "<Figure size 1000x600 with 1 Axes>"
      ]
     },
     "metadata": {},
     "output_type": "display_data"
    }
   ],
   "source": [
    "# Calculate area-wise distribution of restaurants\n",
    "area_distribution = merged_data['location'].value_counts()\n",
    "\n",
    "# Plotting\n",
    "plt.figure(figsize=(10, 6))\n",
    "plt.xticks(rotation=90)\n",
    "area_distribution.plot(kind='bar')\n",
    "plt.title('Area-wise Distribution of Restaurants')\n",
    "plt.xlabel('Location')\n",
    "plt.ylabel('Number of Restaurants')\n",
    "plt.xticks(rotation=90)\n",
    "plt.tight_layout()\n",
    "plt.show()\n"
   ]
  },
  {
   "cell_type": "code",
   "execution_count": null,
   "id": "9d1e7dbb",
   "metadata": {},
   "outputs": [],
   "source": []
  },
  {
   "cell_type": "code",
   "execution_count": 48,
   "id": "75626319",
   "metadata": {},
   "outputs": [],
   "source": [
    "#-->2 Cheapest and most expensive restaurant for each type of cuisine\n",
    "cheapest_per_cuisine = df_detail.loc[df_detail.groupby('cuisines')['average_price'].idxmin()]\n",
    "most_expensive_per_cuisine = df_detail.loc[df_detail.groupby('cuisines')['average_price'].idxmax()]"
   ]
  },
  {
   "cell_type": "code",
   "execution_count": 49,
   "id": "6456046b",
   "metadata": {},
   "outputs": [
    {
     "name": "stdout",
     "output_type": "stream",
     "text": [
      "      id                               restaurant known for  delivery_rating  \\\n",
      "17    18  Everything was very Good, Amazing Food at Amaz...              4.0   \n",
      "207  214  Elaborate Menu, Good Quality, Ambience, Food, ...              4.1   \n",
      "310  318  Staff Service, Seating Options, Good Portion S...              4.2   \n",
      "10    11  Satisfying Meals, Serving Style, Ample Seating...              4.3   \n",
      "27    28  Good with Reasonable Price, Average Sized Port...              4.2   \n",
      "..   ...                                                ...              ...   \n",
      "179  186  Soft Music, Fast Delivery, Student Crowd, Perf...              4.1   \n",
      "130  135  Great Services, More Variety, Cafe, Young Crow...              4.1   \n",
      "446  455                                                NaN              3.6   \n",
      "342  351  Totally Worth it, Pretty Decor, Pocket Friendl...              4.3   \n",
      "68    69                                                NaN              4.4   \n",
      "\n",
      "     delivery_review_number                                        location  \\\n",
      "17                     10.7                          Indiranagar, Bangalore   \n",
      "207                   278.0                          Sankey Road, Bangalore   \n",
      "310                     3.0                             JP Nagar, Bangalore   \n",
      "10                      4.0                       Residency Road, Bangalore   \n",
      "27                      4.0                       St. Marks Road, Bangalore   \n",
      "..                      ...                                             ...   \n",
      "179                     1.0                      Cunningham Road, Bangalore   \n",
      "130                     2.0                        Church Street, Bangalore   \n",
      "446                     4.0                             JP Nagar, Bangalore   \n",
      "342                    12.8  Building 105, Koramangala 5th Block, Bangalore   \n",
      "68                      1.0                        Seshadripuram, Bangalore   \n",
      "\n",
      "                                timings  average_price  \\\n",
      "17         11:30am – 4pm, 6:30pm – 11pm           1000   \n",
      "207            12noon – 4pm, 7pm – 11pm           1000   \n",
      "310            12noon – 4pm, 7pm – 11pm           1000   \n",
      "10   11:30am – 3:45pm, 6:30pm – 10:45pm           1000   \n",
      "27                       11am – 11:30pm           1000   \n",
      "..                                  ...            ...   \n",
      "179                          7am – 11pm            350   \n",
      "130                          7am – 10pm           2000   \n",
      "446                       10am – 9:30pm            450   \n",
      "342             12AM – 4am, 10am – 12AM            400   \n",
      "68              12AM – 2am, 10am – 12AM            350   \n",
      "\n",
      "                                                Dishes  \\\n",
      "17   Drumstick Soup, Fish Tawa Fry, Pudina Paratha,...   \n",
      "207                                                NaN   \n",
      "310  Chicken Starters, Mutton Biriyani, Chilly Chic...   \n",
      "10   Spicy Daal, Prawn Pepper Fry, Mutton Keema Bal...   \n",
      "27   Popcorn Chicken, Chicken Fry, Cheesecake, Chic...   \n",
      "..                                                 ...   \n",
      "179                                                NaN   \n",
      "130                                                NaN   \n",
      "446                                                NaN   \n",
      "342  Ferrero Rocher Waffle, Caramel Chocolate, Melt...   \n",
      "68                                                 NaN   \n",
      "\n",
      "                                              cuisines  \n",
      "17   ['Andhra', 'Biryani', 'North Indian', 'Chinese...  \n",
      "207  ['Andhra', 'Biryani', 'North Indian', 'Chinese...  \n",
      "310  ['Andhra', 'Biryani', 'North Indian', 'Chinese...  \n",
      "10    ['Andhra', 'Biryani', 'North Indian', 'Seafood']  \n",
      "27               ['Andhra', 'Biryani', 'North Indian']  \n",
      "..                                                 ...  \n",
      "179    ['Tea', 'Beverages', 'Sandwich', 'Street Food']  \n",
      "130  ['Tea', 'Coffee', 'Beverages', 'Shake', 'Fast ...  \n",
      "446  ['Tea', 'Sandwich', 'Fast Food', 'Street Food'...  \n",
      "342       ['Waffle', 'Desserts', 'Shake', 'Beverages']  \n",
      "68   ['Waffle', 'Pancake', 'Ice Cream', 'Desserts',...  \n",
      "\n",
      "[402 rows x 9 columns]\n"
     ]
    }
   ],
   "source": [
    "print(cheapest_per_cuisine)\n"
   ]
  },
  {
   "cell_type": "code",
   "execution_count": 51,
   "id": "d07a926f",
   "metadata": {},
   "outputs": [
    {
     "name": "stdout",
     "output_type": "stream",
     "text": [
      "      id                               restaurant known for  delivery_rating  \\\n",
      "17    18  Everything was very Good, Amazing Food at Amaz...              4.0   \n",
      "207  214  Elaborate Menu, Good Quality, Ambience, Food, ...              4.1   \n",
      "310  318  Staff Service, Seating Options, Good Portion S...              4.2   \n",
      "10    11  Satisfying Meals, Serving Style, Ample Seating...              4.3   \n",
      "27    28  Good with Reasonable Price, Average Sized Port...              4.2   \n",
      "..   ...                                                ...              ...   \n",
      "179  186  Soft Music, Fast Delivery, Student Crowd, Perf...              4.1   \n",
      "130  135  Great Services, More Variety, Cafe, Young Crow...              4.1   \n",
      "446  455                                                NaN              3.6   \n",
      "342  351  Totally Worth it, Pretty Decor, Pocket Friendl...              4.3   \n",
      "68    69                                                NaN              4.4   \n",
      "\n",
      "     delivery_review_number                                        location  \\\n",
      "17                     10.7                          Indiranagar, Bangalore   \n",
      "207                   278.0                          Sankey Road, Bangalore   \n",
      "310                     3.0                             JP Nagar, Bangalore   \n",
      "10                      4.0                       Residency Road, Bangalore   \n",
      "27                      4.0                       St. Marks Road, Bangalore   \n",
      "..                      ...                                             ...   \n",
      "179                     1.0                      Cunningham Road, Bangalore   \n",
      "130                     2.0                        Church Street, Bangalore   \n",
      "446                     4.0                             JP Nagar, Bangalore   \n",
      "342                    12.8  Building 105, Koramangala 5th Block, Bangalore   \n",
      "68                      1.0                        Seshadripuram, Bangalore   \n",
      "\n",
      "                                timings  average_price  \\\n",
      "17         11:30am – 4pm, 6:30pm – 11pm           1000   \n",
      "207            12noon – 4pm, 7pm – 11pm           1000   \n",
      "310            12noon – 4pm, 7pm – 11pm           1000   \n",
      "10   11:30am – 3:45pm, 6:30pm – 10:45pm           1000   \n",
      "27                       11am – 11:30pm           1000   \n",
      "..                                  ...            ...   \n",
      "179                          7am – 11pm            350   \n",
      "130                          7am – 10pm           2000   \n",
      "446                       10am – 9:30pm            450   \n",
      "342             12AM – 4am, 10am – 12AM            400   \n",
      "68              12AM – 2am, 10am – 12AM            350   \n",
      "\n",
      "                                                Dishes  \\\n",
      "17   Drumstick Soup, Fish Tawa Fry, Pudina Paratha,...   \n",
      "207                                                NaN   \n",
      "310  Chicken Starters, Mutton Biriyani, Chilly Chic...   \n",
      "10   Spicy Daal, Prawn Pepper Fry, Mutton Keema Bal...   \n",
      "27   Popcorn Chicken, Chicken Fry, Cheesecake, Chic...   \n",
      "..                                                 ...   \n",
      "179                                                NaN   \n",
      "130                                                NaN   \n",
      "446                                                NaN   \n",
      "342  Ferrero Rocher Waffle, Caramel Chocolate, Melt...   \n",
      "68                                                 NaN   \n",
      "\n",
      "                                              cuisines  \n",
      "17   ['Andhra', 'Biryani', 'North Indian', 'Chinese...  \n",
      "207  ['Andhra', 'Biryani', 'North Indian', 'Chinese...  \n",
      "310  ['Andhra', 'Biryani', 'North Indian', 'Chinese...  \n",
      "10    ['Andhra', 'Biryani', 'North Indian', 'Seafood']  \n",
      "27               ['Andhra', 'Biryani', 'North Indian']  \n",
      "..                                                 ...  \n",
      "179    ['Tea', 'Beverages', 'Sandwich', 'Street Food']  \n",
      "130  ['Tea', 'Coffee', 'Beverages', 'Shake', 'Fast ...  \n",
      "446  ['Tea', 'Sandwich', 'Fast Food', 'Street Food'...  \n",
      "342       ['Waffle', 'Desserts', 'Shake', 'Beverages']  \n",
      "68   ['Waffle', 'Pancake', 'Ice Cream', 'Desserts',...  \n",
      "\n",
      "[402 rows x 9 columns]\n"
     ]
    }
   ],
   "source": [
    "print(most_expensive_per_cuisine)"
   ]
  },
  {
   "cell_type": "code",
   "execution_count": null,
   "id": "a1147a11",
   "metadata": {},
   "outputs": [],
   "source": []
  },
  {
   "cell_type": "code",
   "execution_count": 50,
   "id": "8363fbb0",
   "metadata": {},
   "outputs": [
    {
     "name": "stdout",
     "output_type": "stream",
     "text": [
      "BTM, Bangalore\n"
     ]
    }
   ],
   "source": [
    "#-->3 Location with maximum number of restaurants where delivery_review_number is greater than 1000\n",
    "max_review_count_location = df_detail[df_detail['delivery_review_number'] > 1.0]['location'].value_counts().idxmax()\n",
    "print(max_review_count_location)"
   ]
  },
  {
   "cell_type": "code",
   "execution_count": null,
   "id": "c73de67f",
   "metadata": {},
   "outputs": [],
   "source": []
  },
  {
   "cell_type": "code",
   "execution_count": 33,
   "id": "4f9eec68",
   "metadata": {},
   "outputs": [],
   "source": [
    "# 4 popular cuisine\n",
    "popular_cuisine = df_detail['cuisines'].value_counts().idxmax()"
   ]
  },
  {
   "cell_type": "code",
   "execution_count": 34,
   "id": "a740d1ba",
   "metadata": {},
   "outputs": [
    {
     "name": "stdout",
     "output_type": "stream",
     "text": [
      "['Biryani', 'South Indian']\n"
     ]
    }
   ],
   "source": [
    "print(popular_cuisine)"
   ]
  },
  {
   "cell_type": "code",
   "execution_count": null,
   "id": "087de6b0",
   "metadata": {},
   "outputs": [],
   "source": []
  },
  {
   "cell_type": "code",
   "execution_count": 35,
   "id": "cf2ffb1d",
   "metadata": {},
   "outputs": [
    {
     "name": "stdout",
     "output_type": "stream",
     "text": [
      "Location with maximum number of less-rated restaurants: BTM, Bangalore\n"
     ]
    }
   ],
   "source": [
    "#-->5 Which location maximum number of the less-rated restaurant?\n",
    "threshold = 4.0\n",
    "\n",
    "# Filter the DataFrame for less-rated restaurants\n",
    "less_rated_restaurants = df_detail[df_detail['delivery_rating'] < threshold]\n",
    "\n",
    "# Count occurrences of each location\n",
    "location_counts = less_rated_restaurants['location'].value_counts()\n",
    "\n",
    "# Find the location with the maximum count\n",
    "max_location = location_counts.idxmax()\n",
    "\n",
    "print(\"Location with maximum number of less-rated restaurants:\", max_location)"
   ]
  },
  {
   "cell_type": "code",
   "execution_count": null,
   "id": "d0f91867",
   "metadata": {},
   "outputs": [],
   "source": []
  },
  {
   "cell_type": "code",
   "execution_count": 52,
   "id": "da059921",
   "metadata": {},
   "outputs": [],
   "source": [
    "#-->6 Area wise cheap and expensive restaurant and their average price\n",
    "cheap_restaurant_per_location = merged_data.loc[merged_data.groupby('location')['average_price'].idxmin(), ['location', 'name', 'average_price']]\n",
    "expensive_restaurant_per_location = merged_data.loc[merged_data.groupby('location')['average_price'].idxmax(), ['location', 'name', 'average_price']]\n"
   ]
  },
  {
   "cell_type": "code",
   "execution_count": null,
   "id": "737123d6",
   "metadata": {},
   "outputs": [],
   "source": []
  },
  {
   "cell_type": "code",
   "execution_count": 53,
   "id": "53340ed1",
   "metadata": {},
   "outputs": [
    {
     "name": "stdout",
     "output_type": "stream",
     "text": [
      "                                             location  \\\n",
      "12                                 1 Sobha, Bangalore   \n",
      "307                                    BTM, Bangalore   \n",
      "231                           Banashankari, Bangalore   \n",
      "200                           Basavanagudi, Bangalore   \n",
      "72                      Basaveshwara Nagar, Bangalore   \n",
      "189                           Brigade Road, Bangalore   \n",
      "342    Building 105, Koramangala 5th Block, Bangalore   \n",
      "135                          Church Street, Bangalore   \n",
      "413                            City Market, Bangalore   \n",
      "186                      Commercial Street, Bangalore   \n",
      "179                        Cunningham Road, Bangalore   \n",
      "410                                 Domlur, Bangalore   \n",
      "13                                 Ejipura, Bangalore   \n",
      "338                         Forum Rex Walk, Bangalore   \n",
      "7                              Frazer Town, Bangalore   \n",
      "64               Garuda Mall, Magrath Road, Bangalore   \n",
      "275                             HBR Layout, Bangalore   \n",
      "241                             Hosur Road, Bangalore   \n",
      "37                             Indiranagar, Bangalore   \n",
      "462                          Infantry Road, Bangalore   \n",
      "76                                JP Nagar, Bangalore   \n",
      "95   Jatti Building, Koramangala 5th Block, Bangalore   \n",
      "431                              Jayanagar, Bangalore   \n",
      "80                      Jeevan Bhima Nagar, Bangalore   \n",
      "271                  Koramangala 5th Block, Bangalore   \n",
      "205                  Koramangala 6th Block, Bangalore   \n",
      "57                   Koramangala 7th Block, Bangalore   \n",
      "168                     Kumaraswamy Layout, Bangalore   \n",
      "393                          Langford Town, Bangalore   \n",
      "430                           Lavelle Road, Bangalore   \n",
      "137                      Lido Mall, Ulsoor, Bangalore   \n",
      "16                                 MG Road, Bangalore   \n",
      "458                               Majestic, Bangalore   \n",
      "97                            Malleshwaram, Bangalore   \n",
      "30             Mantri Square, Malleshwaram, Bangalore   \n",
      "349                     Nexus, Koramangala, Bangalore   \n",
      "158                       Old Airport Road, Bangalore   \n",
      "165                        Old Madras Road, Bangalore   \n",
      "407               Orion Mall, Malleshwaram, Bangalore   \n",
      "459                               RT Nagar, Bangalore   \n",
      "52                             Rajajinagar, Bangalore   \n",
      "41                          Residency Road, Bangalore   \n",
      "28                           Richmond Road, Bangalore   \n",
      "11                           Richmond Town, Bangalore   \n",
      "191                         Sadashiv Nagar, Bangalore   \n",
      "79                            Sanjay Nagar, Bangalore   \n",
      "207                            Sankey Road, Bangalore   \n",
      "151                          Seshadripuram, Bangalore   \n",
      "221                           Shanti Nagar, Bangalore   \n",
      "8                             Shivajinagar, Bangalore   \n",
      "67                          St. Marks Road, Bangalore   \n",
      "286                           Thippasandra, Bangalore   \n",
      "46                                 UB City, Bangalore   \n",
      "61                                  Ulsoor, Bangalore   \n",
      "47                           Vasanth Nagar, Bangalore   \n",
      "120                            Vijay Nagar, Bangalore   \n",
      "133                          Wilson Garden, Bangalore   \n",
      "494                            Yeshwantpur, Bangalore   \n",
      "\n",
      "                                       name  average_price  \n",
      "12          Paragon Restaurant - Since 1939           1000  \n",
      "307                          Andhra Kitchen             50  \n",
      "231                  Aramane Donne Biriyani            300  \n",
      "200                               Roti Ghar            300  \n",
      "72                      Priyadarshini Grand            300  \n",
      "189                         Sri Udupi Grand            300  \n",
      "342                       XO Belgian Waffle            400  \n",
      "135                          Biggies Burger            350  \n",
      "413                               Pai Vihar            300  \n",
      "186               ITC Master Chef Creations            350  \n",
      "179               Chaayos Chai+Snacks=Relax            350  \n",
      "410                         Sri Nidhi Sagar            300  \n",
      "13                           Tomba Kitchens            300  \n",
      "338                                 Nando's           1000  \n",
      "7                           La Pino'z Pizza            300  \n",
      "64                                Taco Bell            400  \n",
      "275     Shaadi Ki Biryani Nousho Ka Naashta            300  \n",
      "241                          Bake and Juice            400  \n",
      "37              RNR Biryani - Taste Of 1953            300  \n",
      "462                            Burnout Cafe            950  \n",
      "76                      Kolkata Kathi Rolls            300  \n",
      "95                AB's - Absolute Barbecues           1000  \n",
      "431               Mane Holige Kuruku Thindi             50  \n",
      "80                          New Udupi Grand            300  \n",
      "271                       Oru Vadakkan Cafe            300  \n",
      "205                    Goila Butter Chicken            300  \n",
      "57             Chicpet Donne Biriyani House            300  \n",
      "168                              Kabab King            300  \n",
      "393                           Rolls Kitchen           2000  \n",
      "430                             Boss Burger            300  \n",
      "137                         Barbeque Nation           1000  \n",
      "16                               McDonald's            400  \n",
      "458  Punjabi Pure Veg Restaurant Since 1994            350  \n",
      "97                      Donne Biryani House            300  \n",
      "30                       California Burrito            450  \n",
      "349                                PVR Café           2000  \n",
      "158                               Odia Dine            300  \n",
      "165                   M.M.A Kabab and Rolls            450  \n",
      "407                                 You Mee           2000  \n",
      "459           LM Paradise Cuisines And Cafe            300  \n",
      "52   Paradise Biryani - A Legend Since 1953            300  \n",
      "41                  Corner House Ice Creams            300  \n",
      "28                        Five Star Chicken            300  \n",
      "11                                Bowl Soul            300  \n",
      "191               Donne Biryani Angadi Mane            300  \n",
      "79                             Call Me Chow           2000  \n",
      "207                          Andhra Ruchulu           1000  \n",
      "151    Biryani Trip - Destination Hyderabad            300  \n",
      "221          Sreeraj Lassi Bar - Since 1973            300  \n",
      "8                                    Aubree            350  \n",
      "67                        Natural Ice Cream            300  \n",
      "286                           Motis Kitchen            350  \n",
      "46                                   Subway            600  \n",
      "61                          Amma's Pastries            300  \n",
      "47                                  Bakingo            300  \n",
      "120                                Big Bite            300  \n",
      "133  Dairy Day Ice Creams & Frozen Desserts             50  \n",
      "494         A1 Ambur Chicken Biriyani Point           2000  \n"
     ]
    }
   ],
   "source": [
    "print(cheap_restaurant_per_location)"
   ]
  },
  {
   "cell_type": "code",
   "execution_count": 54,
   "id": "b8f4753b",
   "metadata": {},
   "outputs": [
    {
     "name": "stdout",
     "output_type": "stream",
     "text": [
      "                                             location  \\\n",
      "481                                1 Sobha, Bangalore   \n",
      "180                                    BTM, Bangalore   \n",
      "334                           Banashankari, Bangalore   \n",
      "111                           Basavanagudi, Bangalore   \n",
      "269                     Basaveshwara Nagar, Bangalore   \n",
      "272                           Brigade Road, Bangalore   \n",
      "342    Building 105, Koramangala 5th Block, Bangalore   \n",
      "130                          Church Street, Bangalore   \n",
      "141                            City Market, Bangalore   \n",
      "153                      Commercial Street, Bangalore   \n",
      "49                         Cunningham Road, Bangalore   \n",
      "251                                 Domlur, Bangalore   \n",
      "4                                  Ejipura, Bangalore   \n",
      "428                         Forum Rex Walk, Bangalore   \n",
      "157                            Frazer Town, Bangalore   \n",
      "105              Garuda Mall, Magrath Road, Bangalore   \n",
      "314                             HBR Layout, Bangalore   \n",
      "74                              Hosur Road, Bangalore   \n",
      "116                            Indiranagar, Bangalore   \n",
      "462                          Infantry Road, Bangalore   \n",
      "445                               JP Nagar, Bangalore   \n",
      "95   Jatti Building, Koramangala 5th Block, Bangalore   \n",
      "58                               Jayanagar, Bangalore   \n",
      "389                     Jeevan Bhima Nagar, Bangalore   \n",
      "112                  Koramangala 5th Block, Bangalore   \n",
      "238                  Koramangala 6th Block, Bangalore   \n",
      "156                  Koramangala 7th Block, Bangalore   \n",
      "168                     Kumaraswamy Layout, Bangalore   \n",
      "393                          Langford Town, Bangalore   \n",
      "392                           Lavelle Road, Bangalore   \n",
      "127                      Lido Mall, Ulsoor, Bangalore   \n",
      "42                                 MG Road, Bangalore   \n",
      "85                                Majestic, Bangalore   \n",
      "154                           Malleshwaram, Bangalore   \n",
      "31             Mantri Square, Malleshwaram, Bangalore   \n",
      "349                     Nexus, Koramangala, Bangalore   \n",
      "140                       Old Airport Road, Bangalore   \n",
      "165                        Old Madras Road, Bangalore   \n",
      "407               Orion Mall, Malleshwaram, Bangalore   \n",
      "361                               RT Nagar, Bangalore   \n",
      "282                            Rajajinagar, Bangalore   \n",
      "59                          Residency Road, Bangalore   \n",
      "21                           Richmond Road, Bangalore   \n",
      "43                           Richmond Town, Bangalore   \n",
      "63                          Sadashiv Nagar, Bangalore   \n",
      "79                            Sanjay Nagar, Bangalore   \n",
      "207                            Sankey Road, Bangalore   \n",
      "22                           Seshadripuram, Bangalore   \n",
      "51                            Shanti Nagar, Bangalore   \n",
      "6                             Shivajinagar, Bangalore   \n",
      "177                         St. Marks Road, Bangalore   \n",
      "368                           Thippasandra, Bangalore   \n",
      "187                                UB City, Bangalore   \n",
      "333                                 Ulsoor, Bangalore   \n",
      "259                          Vasanth Nagar, Bangalore   \n",
      "104                            Vijay Nagar, Bangalore   \n",
      "82                           Wilson Garden, Bangalore   \n",
      "494                            Yeshwantpur, Bangalore   \n",
      "\n",
      "                                                name  average_price  \n",
      "481                                      Rolls Mania           2000  \n",
      "180                              Hari Super Sandwich           2000  \n",
      "334                      Banashankari Donne Biriyani           2000  \n",
      "111                              Hari Super Sandwich           2000  \n",
      "269                                     TKS Iyengars           2000  \n",
      "272                                            ibaco           2000  \n",
      "342                                XO Belgian Waffle            400  \n",
      "130                                       Chai Point           2000  \n",
      "141                                India Sweet House           1000  \n",
      "153                    ITC Aashirvaad Soul Creations           2000  \n",
      "49                                            EatFit           2000  \n",
      "251                                           Peetuk           2000  \n",
      "4                                      Maven Kitchen            500  \n",
      "428                                     Punjab Grill           2000  \n",
      "157                              Madras Meal Company           2000  \n",
      "105              Baskin Robbins - Ice Cream Desserts           1000  \n",
      "314                                  Razakhiya Hotel            400  \n",
      "74                                          Big Bowl           2000  \n",
      "116                              Goli Vada Pav No. 1           2000  \n",
      "462                                     Burnout Cafe            950  \n",
      "445                             Prasidhi Food Corner           2000  \n",
      "95                         AB's - Absolute Barbecues           1000  \n",
      "58                                     Kapoor's Cafe           1000  \n",
      "389                                  Sendhoor Coffee           2000  \n",
      "112                   Aattutheeram Kerala Restaurant           2000  \n",
      "238                                     Paratha Envy           2000  \n",
      "156                                        Boba Bhai           2000  \n",
      "168                                       Kabab King            300  \n",
      "393                                    Rolls Kitchen           2000  \n",
      "392                                 Smoke House Deli           2000  \n",
      "127                                Dum Safar Biryani           2000  \n",
      "42                                        Paakashala           2000  \n",
      "85                        Sangam Sweets - Since 1964           2000  \n",
      "154                          Shyamji's Chole Bhature           2000  \n",
      "31                                            Onesta           2000  \n",
      "349                                         PVR Café           2000  \n",
      "140                                 New Udupi Garden           1000  \n",
      "165                            M.M.A Kabab and Rolls            450  \n",
      "407                                          You Mee           2000  \n",
      "361                                    Shawarma Time           2000  \n",
      "282                    Marwadi Chaat Tiffin Services           2000  \n",
      "59                                    Sri Udupi Park           2000  \n",
      "21                                         FreshMenu           2000  \n",
      "43                                       Kabab Magic            400  \n",
      "63                                 Thalairaj Biryani           2000  \n",
      "79                                      Call Me Chow           2000  \n",
      "207                                   Andhra Ruchulu           1000  \n",
      "22                                  Andhra Gunpowder           2000  \n",
      "51                            Faasos - Wraps & Rolls           2000  \n",
      "6                                   Royal Restaurant           2000  \n",
      "177                                   Juice Junction           2000  \n",
      "368                                    Texas Burgers           2000  \n",
      "187                                          Toscano           1000  \n",
      "333                                     Banchharam's           2000  \n",
      "259                   Olio - The Wood Fired Pizzeria           2000  \n",
      "104                                Mandya Nati Style           2000  \n",
      "82   Kwalitywall's Frozen Dessert And Ice Cream Shop           1000  \n",
      "494                  A1 Ambur Chicken Biriyani Point           2000  \n"
     ]
    }
   ],
   "source": [
    "print(expensive_restaurant_per_location)"
   ]
  },
  {
   "cell_type": "code",
   "execution_count": null,
   "id": "00723d27",
   "metadata": {},
   "outputs": [],
   "source": []
  },
  {
   "cell_type": "code",
   "execution_count": 39,
   "id": "86506cae",
   "metadata": {},
   "outputs": [],
   "source": [
    "#-->7 Number of restaurants for each type of cuisine\n",
    "restaurant_count_per_cuisine = df_detail['cuisines'].value_counts()\n"
   ]
  },
  {
   "cell_type": "code",
   "execution_count": 40,
   "id": "b6d7ae0d",
   "metadata": {},
   "outputs": [
    {
     "name": "stdout",
     "output_type": "stream",
     "text": [
      "cuisines\n",
      "['Biryani', 'South Indian']                                                                   14\n",
      "['Bakery', 'Desserts']                                                                        13\n",
      "['North Indian']                                                                              12\n",
      "['South Indian']                                                                              12\n",
      "['Ice Cream', 'Desserts']                                                                      8\n",
      "                                                                                              ..\n",
      "['Burger', 'Sandwich', 'Fast Food', 'Wraps', 'Biryani', 'Beverages', 'Desserts']               1\n",
      "['Biryani', 'Mughlai']                                                                         1\n",
      "['North Indian', 'Odia']                                                                       1\n",
      "['Bubble Tea', 'Burger', 'Beverages', 'Tea', 'Fast Food', 'Street Food', 'Momos', 'Shake']     1\n",
      "['Beverages', 'Juices', 'Healthy Food']                                                        1\n",
      "Name: count, Length: 402, dtype: int64\n"
     ]
    }
   ],
   "source": [
    "print(restaurant_count_per_cuisine)"
   ]
  },
  {
   "cell_type": "code",
   "execution_count": null,
   "id": "fdc5749e",
   "metadata": {},
   "outputs": [],
   "source": []
  },
  {
   "cell_type": "code",
   "execution_count": 55,
   "id": "ce6539aa",
   "metadata": {},
   "outputs": [
    {
     "data": {
      "text/html": [
       "<div>\n",
       "<style scoped>\n",
       "    .dataframe tbody tr th:only-of-type {\n",
       "        vertical-align: middle;\n",
       "    }\n",
       "\n",
       "    .dataframe tbody tr th {\n",
       "        vertical-align: top;\n",
       "    }\n",
       "\n",
       "    .dataframe thead th {\n",
       "        text-align: right;\n",
       "    }\n",
       "</style>\n",
       "<table border=\"1\" class=\"dataframe\">\n",
       "  <thead>\n",
       "    <tr style=\"text-align: right;\">\n",
       "      <th></th>\n",
       "      <th>id</th>\n",
       "      <th>delivery_rating</th>\n",
       "      <th>delivery_review_number</th>\n",
       "      <th>average_price</th>\n",
       "    </tr>\n",
       "  </thead>\n",
       "  <tbody>\n",
       "    <tr>\n",
       "      <th>count</th>\n",
       "      <td>505.000000</td>\n",
       "      <td>505.000000</td>\n",
       "      <td>505.000000</td>\n",
       "      <td>505.000000</td>\n",
       "    </tr>\n",
       "    <tr>\n",
       "      <th>mean</th>\n",
       "      <td>258.170297</td>\n",
       "      <td>4.051485</td>\n",
       "      <td>135.517426</td>\n",
       "      <td>906.237624</td>\n",
       "    </tr>\n",
       "    <tr>\n",
       "      <th>std</th>\n",
       "      <td>148.785622</td>\n",
       "      <td>0.277107</td>\n",
       "      <td>248.115688</td>\n",
       "      <td>611.436721</td>\n",
       "    </tr>\n",
       "    <tr>\n",
       "      <th>min</th>\n",
       "      <td>1.000000</td>\n",
       "      <td>2.900000</td>\n",
       "      <td>0.000000</td>\n",
       "      <td>50.000000</td>\n",
       "    </tr>\n",
       "    <tr>\n",
       "      <th>25%</th>\n",
       "      <td>129.000000</td>\n",
       "      <td>3.900000</td>\n",
       "      <td>2.000000</td>\n",
       "      <td>400.000000</td>\n",
       "    </tr>\n",
       "    <tr>\n",
       "      <th>50%</th>\n",
       "      <td>259.000000</td>\n",
       "      <td>4.100000</td>\n",
       "      <td>9.000000</td>\n",
       "      <td>850.000000</td>\n",
       "    </tr>\n",
       "    <tr>\n",
       "      <th>75%</th>\n",
       "      <td>387.000000</td>\n",
       "      <td>4.200000</td>\n",
       "      <td>116.000000</td>\n",
       "      <td>1000.000000</td>\n",
       "    </tr>\n",
       "    <tr>\n",
       "      <th>max</th>\n",
       "      <td>513.000000</td>\n",
       "      <td>4.600000</td>\n",
       "      <td>986.000000</td>\n",
       "      <td>2000.000000</td>\n",
       "    </tr>\n",
       "  </tbody>\n",
       "</table>\n",
       "</div>"
      ],
      "text/plain": [
       "               id  delivery_rating  delivery_review_number  average_price\n",
       "count  505.000000       505.000000              505.000000     505.000000\n",
       "mean   258.170297         4.051485              135.517426     906.237624\n",
       "std    148.785622         0.277107              248.115688     611.436721\n",
       "min      1.000000         2.900000                0.000000      50.000000\n",
       "25%    129.000000         3.900000                2.000000     400.000000\n",
       "50%    259.000000         4.100000                9.000000     850.000000\n",
       "75%    387.000000         4.200000              116.000000    1000.000000\n",
       "max    513.000000         4.600000              986.000000    2000.000000"
      ]
     },
     "execution_count": 55,
     "metadata": {},
     "output_type": "execute_result"
    }
   ],
   "source": [
    "merged_data.describe() "
   ]
  },
  {
   "cell_type": "code",
   "execution_count": null,
   "id": "be300f6a",
   "metadata": {},
   "outputs": [],
   "source": [
    "#Inferences:\n",
    "\n",
    "#1.The average rating of all the restaurants is 4.05\n",
    "#2.The average cost in any restaurant is 906.23\n",
    "#3.The rating of restaurants ranges from a lowest of 2.9 to a highest of 4.6\n",
    "#4.The approximate cost ranges from a lowest of 50 to a highest of 2000"
   ]
  },
  {
   "cell_type": "code",
   "execution_count": null,
   "id": "637b5d6f",
   "metadata": {},
   "outputs": [],
   "source": []
  },
  {
   "cell_type": "code",
   "execution_count": null,
   "id": "5148a2ec",
   "metadata": {},
   "outputs": [],
   "source": []
  },
  {
   "cell_type": "code",
   "execution_count": null,
   "id": "17113a9d",
   "metadata": {},
   "outputs": [],
   "source": []
  },
  {
   "cell_type": "code",
   "execution_count": null,
   "id": "9cb61123",
   "metadata": {},
   "outputs": [],
   "source": []
  },
  {
   "cell_type": "code",
   "execution_count": null,
   "id": "fa881f1f",
   "metadata": {},
   "outputs": [],
   "source": []
  },
  {
   "cell_type": "code",
   "execution_count": null,
   "id": "67b5c726",
   "metadata": {},
   "outputs": [],
   "source": []
  },
  {
   "cell_type": "code",
   "execution_count": null,
   "id": "840347d3",
   "metadata": {},
   "outputs": [],
   "source": []
  },
  {
   "cell_type": "code",
   "execution_count": null,
   "id": "960111b1",
   "metadata": {},
   "outputs": [],
   "source": []
  },
  {
   "cell_type": "code",
   "execution_count": null,
   "id": "d14d3a3a",
   "metadata": {},
   "outputs": [],
   "source": []
  },
  {
   "cell_type": "code",
   "execution_count": null,
   "id": "a75c41f2",
   "metadata": {},
   "outputs": [],
   "source": []
  },
  {
   "cell_type": "code",
   "execution_count": null,
   "id": "6b5bc99d",
   "metadata": {},
   "outputs": [],
   "source": []
  },
  {
   "cell_type": "code",
   "execution_count": null,
   "id": "33e677a6",
   "metadata": {},
   "outputs": [],
   "source": []
  },
  {
   "cell_type": "code",
   "execution_count": null,
   "id": "3f9f5f0e",
   "metadata": {},
   "outputs": [],
   "source": []
  },
  {
   "cell_type": "code",
   "execution_count": null,
   "id": "9c88481a",
   "metadata": {},
   "outputs": [],
   "source": []
  }
 ],
 "metadata": {
  "kernelspec": {
   "display_name": "Python 3 (ipykernel)",
   "language": "python",
   "name": "python3"
  },
  "language_info": {
   "codemirror_mode": {
    "name": "ipython",
    "version": 3
   },
   "file_extension": ".py",
   "mimetype": "text/x-python",
   "name": "python",
   "nbconvert_exporter": "python",
   "pygments_lexer": "ipython3",
   "version": "3.11.5"
  }
 },
 "nbformat": 4,
 "nbformat_minor": 5
}
